{
 "cells": [
  {
   "cell_type": "code",
   "execution_count": 1,
   "metadata": {},
   "outputs": [],
   "source": [
    "import spotipy\n",
    "from spotipy.oauth2 import SpotifyClientCredentials"
   ]
  },
  {
   "cell_type": "code",
   "execution_count": 2,
   "metadata": {},
   "outputs": [],
   "source": [
    "spotify = spotipy.Spotify(client_credentials_manager=SpotifyClientCredentials(\n",
    "    client_id=id, client_secret=id))"
   ]
  },
  {
   "cell_type": "code",
   "execution_count": 3,
   "metadata": {},
   "outputs": [],
   "source": [
    "playlist = spotify.user_playlist_tracks(user=\"spotify\",playlist_id='spotify:playlist:37i9dQZF1EtbkGQVMqstOe')"
   ]
  },
  {
   "cell_type": "code",
   "execution_count": 4,
   "metadata": {},
   "outputs": [
    {
     "data": {
      "text/plain": [
       "'Dance Monkey'"
      ]
     },
     "execution_count": 4,
     "metadata": {},
     "output_type": "execute_result"
    }
   ],
   "source": [
    "playlist['items'][0]['track']['name']"
   ]
  },
  {
   "cell_type": "code",
   "execution_count": 59,
   "metadata": {},
   "outputs": [],
   "source": [
    "artists_list = []\n",
    "for item in playlist['items']:\n",
    "    for artist in item ['track']['artists']:\n",
    "        artists_list.append(artist['name'])"
   ]
  },
  {
   "cell_type": "code",
   "execution_count": 6,
   "metadata": {},
   "outputs": [],
   "source": [
    "track = \"Dance Monkey\"\n",
    "result = spotify.search(q=track, limit = 10)"
   ]
  },
  {
   "cell_type": "code",
   "execution_count": 7,
   "metadata": {},
   "outputs": [
    {
     "data": {
      "text/plain": [
       "'Tones And I'"
      ]
     },
     "execution_count": 7,
     "metadata": {},
     "output_type": "execute_result"
    }
   ],
   "source": [
    "result['tracks']['items'][0]['artists'][0]['name']"
   ]
  },
  {
   "cell_type": "code",
   "execution_count": null,
   "metadata": {},
   "outputs": [],
   "source": []
  },
  {
   "cell_type": "code",
   "execution_count": 101,
   "metadata": {
    "scrolled": true
   },
   "outputs": [
    {
     "data": {
      "text/plain": [
       "['spotify:track:2XU0oxnq2qxCpomAAuJY8K']"
      ]
     },
     "execution_count": 101,
     "metadata": {},
     "output_type": "execute_result"
    }
   ],
   "source": [
    "track = \"Dance Monkey\"\n",
    "result = spotify.search(q=track, limit = 1)\n",
    "all_uri=[]\n",
    "for result in result['tracks']['items']:\n",
    "    all_uri.append(result['uri'])\n",
    "all_uri"
   ]
  },
  {
   "cell_type": "code",
   "execution_count": 93,
   "metadata": {},
   "outputs": [],
   "source": [
    "features = {}"
   ]
  },
  {
   "cell_type": "code",
   "execution_count": 112,
   "metadata": {},
   "outputs": [
    {
     "data": {
      "text/plain": [
       "'spotify:track:5ykkEjEEG59QhP1Ss6yMJ8'"
      ]
     },
     "execution_count": 112,
     "metadata": {},
     "output_type": "execute_result"
    }
   ],
   "source": [
    "track = \"Darkside\"\n",
    "result = spotify.search(q=track, limit = 1)\n",
    "all_uri=[]\n",
    "for result in result['tracks']['items']:\n",
    "    uri_track=(result['uri'])\n",
    "uri_track"
   ]
  },
  {
   "cell_type": "code",
   "execution_count": 113,
   "metadata": {},
   "outputs": [],
   "source": [
    "features = spotify.audio_features(uri_track)"
   ]
  },
  {
   "cell_type": "code",
   "execution_count": 114,
   "metadata": {},
   "outputs": [],
   "source": [
    "features_dic ={track : features}"
   ]
  },
  {
   "cell_type": "code",
   "execution_count": 115,
   "metadata": {
    "collapsed": true
   },
   "outputs": [
    {
     "data": {
      "text/plain": [
       "{'Darkside': [{'danceability': 0.896,\n",
       "   'energy': 0.575,\n",
       "   'key': 1,\n",
       "   'loudness': -5.233,\n",
       "   'mode': 1,\n",
       "   'speechiness': 0.388,\n",
       "   'acousticness': 0.35,\n",
       "   'instrumentalness': 0,\n",
       "   'liveness': 0.138,\n",
       "   'valence': 0.171,\n",
       "   'tempo': 125.555,\n",
       "   'type': 'audio_features',\n",
       "   'id': '5ykkEjEEG59QhP1Ss6yMJ8',\n",
       "   'uri': 'spotify:track:5ykkEjEEG59QhP1Ss6yMJ8',\n",
       "   'track_href': 'https://api.spotify.com/v1/tracks/5ykkEjEEG59QhP1Ss6yMJ8',\n",
       "   'analysis_url': 'https://api.spotify.com/v1/audio-analysis/5ykkEjEEG59QhP1Ss6yMJ8',\n",
       "   'duration_ms': 139600,\n",
       "   'time_signature': 4}]}"
      ]
     },
     "execution_count": 115,
     "metadata": {},
     "output_type": "execute_result"
    }
   ],
   "source": [
    "features_dic"
   ]
  },
  {
   "cell_type": "code",
   "execution_count": null,
   "metadata": {},
   "outputs": [],
   "source": []
  },
  {
   "cell_type": "code",
   "execution_count": 95,
   "metadata": {},
   "outputs": [],
   "source": [
    "for i in range(len(all_uri)):\n",
    "    features_all[all_name[i]] = spotify.audio_features(all_uri[i])"
   ]
  },
  {
   "cell_type": "code",
   "execution_count": 100,
   "metadata": {
    "collapsed": true
   },
   "outputs": [
    {
     "data": {
      "text/plain": [
       "[{'danceability': 0.824,\n",
       "  'energy': 0.588,\n",
       "  'key': 6,\n",
       "  'loudness': -6.4,\n",
       "  'mode': 0,\n",
       "  'speechiness': 0.0924,\n",
       "  'acousticness': 0.692,\n",
       "  'instrumentalness': 0.000104,\n",
       "  'liveness': 0.149,\n",
       "  'valence': 0.513,\n",
       "  'tempo': 98.027,\n",
       "  'type': 'audio_features',\n",
       "  'id': '2XU0oxnq2qxCpomAAuJY8K',\n",
       "  'uri': 'spotify:track:2XU0oxnq2qxCpomAAuJY8K',\n",
       "  'track_href': 'https://api.spotify.com/v1/tracks/2XU0oxnq2qxCpomAAuJY8K',\n",
       "  'analysis_url': 'https://api.spotify.com/v1/audio-analysis/2XU0oxnq2qxCpomAAuJY8K',\n",
       "  'duration_ms': 209438,\n",
       "  'time_signature': 4},\n",
       " {'danceability': 0.806,\n",
       "  'energy': 0.64,\n",
       "  'key': 6,\n",
       "  'loudness': -6.541,\n",
       "  'mode': 0,\n",
       "  'speechiness': 0.0874,\n",
       "  'acousticness': 0.124,\n",
       "  'instrumentalness': 2.38e-06,\n",
       "  'liveness': 0.188,\n",
       "  'valence': 0.478,\n",
       "  'tempo': 98.117,\n",
       "  'type': 'audio_features',\n",
       "  'id': '04xrRHEw8PGOegKJi3huVT',\n",
       "  'uri': 'spotify:track:04xrRHEw8PGOegKJi3huVT',\n",
       "  'track_href': 'https://api.spotify.com/v1/tracks/04xrRHEw8PGOegKJi3huVT',\n",
       "  'analysis_url': 'https://api.spotify.com/v1/audio-analysis/04xrRHEw8PGOegKJi3huVT',\n",
       "  'duration_ms': 199997,\n",
       "  'time_signature': 4},\n",
       " {'danceability': 0.664,\n",
       "  'energy': 0.212,\n",
       "  'key': 6,\n",
       "  'loudness': -7.762,\n",
       "  'mode': 0,\n",
       "  'speechiness': 0.046,\n",
       "  'acousticness': 0.931,\n",
       "  'instrumentalness': 0,\n",
       "  'liveness': 0.102,\n",
       "  'valence': 0.574,\n",
       "  'tempo': 83.245,\n",
       "  'type': 'audio_features',\n",
       "  'id': '1ooBIqsmV1ocRldBZrvLPD',\n",
       "  'uri': 'spotify:track:1ooBIqsmV1ocRldBZrvLPD',\n",
       "  'track_href': 'https://api.spotify.com/v1/tracks/1ooBIqsmV1ocRldBZrvLPD',\n",
       "  'analysis_url': 'https://api.spotify.com/v1/audio-analysis/1ooBIqsmV1ocRldBZrvLPD',\n",
       "  'duration_ms': 171461,\n",
       "  'time_signature': 4},\n",
       " {'danceability': 0.584,\n",
       "  'energy': 0.744,\n",
       "  'key': 6,\n",
       "  'loudness': -6.445,\n",
       "  'mode': 0,\n",
       "  'speechiness': 0.365,\n",
       "  'acousticness': 0.291,\n",
       "  'instrumentalness': 0.000223,\n",
       "  'liveness': 0.0655,\n",
       "  'valence': 0.473,\n",
       "  'tempo': 195.588,\n",
       "  'type': 'audio_features',\n",
       "  'id': '3xh9eJ2aCe1W2dnoGWGSqa',\n",
       "  'uri': 'spotify:track:3xh9eJ2aCe1W2dnoGWGSqa',\n",
       "  'track_href': 'https://api.spotify.com/v1/tracks/3xh9eJ2aCe1W2dnoGWGSqa',\n",
       "  'analysis_url': 'https://api.spotify.com/v1/audio-analysis/3xh9eJ2aCe1W2dnoGWGSqa',\n",
       "  'duration_ms': 210672,\n",
       "  'time_signature': 4},\n",
       " {'danceability': 0.481,\n",
       "  'energy': 0.616,\n",
       "  'key': 6,\n",
       "  'loudness': -10.65,\n",
       "  'mode': 0,\n",
       "  'speechiness': 0.0482,\n",
       "  'acousticness': 0.0104,\n",
       "  'instrumentalness': 0,\n",
       "  'liveness': 0.402,\n",
       "  'valence': 0.252,\n",
       "  'tempo': 98.041,\n",
       "  'type': 'audio_features',\n",
       "  'id': '4KgAFt6Tt4E96poxgq5dVJ',\n",
       "  'uri': 'spotify:track:4KgAFt6Tt4E96poxgq5dVJ',\n",
       "  'track_href': 'https://api.spotify.com/v1/tracks/4KgAFt6Tt4E96poxgq5dVJ',\n",
       "  'analysis_url': 'https://api.spotify.com/v1/audio-analysis/4KgAFt6Tt4E96poxgq5dVJ',\n",
       "  'duration_ms': 180485,\n",
       "  'time_signature': 4},\n",
       " {'danceability': 0.566,\n",
       "  'energy': 0.767,\n",
       "  'key': 6,\n",
       "  'loudness': -6.15,\n",
       "  'mode': 0,\n",
       "  'speechiness': 0.0817,\n",
       "  'acousticness': 0.106,\n",
       "  'instrumentalness': 0,\n",
       "  'liveness': 0.0862,\n",
       "  'valence': 0.236,\n",
       "  'tempo': 98.111,\n",
       "  'type': 'audio_features',\n",
       "  'id': '1LCG7BBh96DUUV6MuQhFad',\n",
       "  'uri': 'spotify:track:1LCG7BBh96DUUV6MuQhFad',\n",
       "  'track_href': 'https://api.spotify.com/v1/tracks/1LCG7BBh96DUUV6MuQhFad',\n",
       "  'analysis_url': 'https://api.spotify.com/v1/audio-analysis/1LCG7BBh96DUUV6MuQhFad',\n",
       "  'duration_ms': 194707,\n",
       "  'time_signature': 4},\n",
       " {'danceability': 0.541,\n",
       "  'energy': 0.192,\n",
       "  'key': 0,\n",
       "  'loudness': -13.995,\n",
       "  'mode': 0,\n",
       "  'speechiness': 0.0282,\n",
       "  'acousticness': 0.893,\n",
       "  'instrumentalness': 0,\n",
       "  'liveness': 0.193,\n",
       "  'valence': 0.317,\n",
       "  'tempo': 139.938,\n",
       "  'type': 'audio_features',\n",
       "  'id': '4zYkSXrfgJyrNkNv3mTiIZ',\n",
       "  'uri': 'spotify:track:4zYkSXrfgJyrNkNv3mTiIZ',\n",
       "  'track_href': 'https://api.spotify.com/v1/tracks/4zYkSXrfgJyrNkNv3mTiIZ',\n",
       "  'analysis_url': 'https://api.spotify.com/v1/audio-analysis/4zYkSXrfgJyrNkNv3mTiIZ',\n",
       "  'duration_ms': 197851,\n",
       "  'time_signature': 4},\n",
       " {'danceability': 0.661,\n",
       "  'energy': 0.372,\n",
       "  'key': 6,\n",
       "  'loudness': -17.889,\n",
       "  'mode': 0,\n",
       "  'speechiness': 0.0359,\n",
       "  'acousticness': 0.789,\n",
       "  'instrumentalness': 0.839,\n",
       "  'liveness': 0.102,\n",
       "  'valence': 0.512,\n",
       "  'tempo': 98.03,\n",
       "  'type': 'audio_features',\n",
       "  'id': '7muvfnzdDgiAme31K0w0kj',\n",
       "  'uri': 'spotify:track:7muvfnzdDgiAme31K0w0kj',\n",
       "  'track_href': 'https://api.spotify.com/v1/tracks/7muvfnzdDgiAme31K0w0kj',\n",
       "  'analysis_url': 'https://api.spotify.com/v1/audio-analysis/7muvfnzdDgiAme31K0w0kj',\n",
       "  'duration_ms': 129796,\n",
       "  'time_signature': 4},\n",
       " {'danceability': 0.781,\n",
       "  'energy': 0.855,\n",
       "  'key': 8,\n",
       "  'loudness': -4.853,\n",
       "  'mode': 0,\n",
       "  'speechiness': 0.232,\n",
       "  'acousticness': 0.327,\n",
       "  'instrumentalness': 0.000248,\n",
       "  'liveness': 0.247,\n",
       "  'valence': 0.311,\n",
       "  'tempo': 118.112,\n",
       "  'type': 'audio_features',\n",
       "  'id': '3g1MMelMBxLjtKwcIVFe0N',\n",
       "  'uri': 'spotify:track:3g1MMelMBxLjtKwcIVFe0N',\n",
       "  'track_href': 'https://api.spotify.com/v1/tracks/3g1MMelMBxLjtKwcIVFe0N',\n",
       "  'analysis_url': 'https://api.spotify.com/v1/audio-analysis/3g1MMelMBxLjtKwcIVFe0N',\n",
       "  'duration_ms': 192203,\n",
       "  'time_signature': 4},\n",
       " {'danceability': 0.591,\n",
       "  'energy': 0.833,\n",
       "  'key': 4,\n",
       "  'loudness': -4.526,\n",
       "  'mode': 0,\n",
       "  'speechiness': 0.0529,\n",
       "  'acousticness': 0.0197,\n",
       "  'instrumentalness': 0.000193,\n",
       "  'liveness': 0.0582,\n",
       "  'valence': 0.435,\n",
       "  'tempo': 100.05,\n",
       "  'type': 'audio_features',\n",
       "  'id': '52MqpL45EQxIPD2VzJ7avI',\n",
       "  'uri': 'spotify:track:52MqpL45EQxIPD2VzJ7avI',\n",
       "  'track_href': 'https://api.spotify.com/v1/tracks/52MqpL45EQxIPD2VzJ7avI',\n",
       "  'analysis_url': 'https://api.spotify.com/v1/audio-analysis/52MqpL45EQxIPD2VzJ7avI',\n",
       "  'duration_ms': 267900,\n",
       "  'time_signature': 4}]"
      ]
     },
     "execution_count": 100,
     "metadata": {},
     "output_type": "execute_result"
    }
   ],
   "source": [
    "spotify.audio_features(all_uri)"
   ]
  },
  {
   "cell_type": "code",
   "execution_count": 90,
   "metadata": {
    "scrolled": true
   },
   "outputs": [
    {
     "data": {
      "text/plain": [
       "['Tones And I',\n",
       " 'Kidz Bop Kids',\n",
       " 'Tones And I',\n",
       " 'Falan Dave',\n",
       " '8D Tunes',\n",
       " 'Coopex',\n",
       " 'EBEN',\n",
       " 'Sarah De Warren',\n",
       " 'Roses & Frey',\n",
       " 'Daniele Leoni',\n",
       " 'Skylike',\n",
       " 'Ekko',\n",
       " 'Leo',\n",
       " 'Hannah Boulton',\n",
       " 'Rabea Massaad']"
      ]
     },
     "execution_count": 90,
     "metadata": {},
     "output_type": "execute_result"
    }
   ],
   "source": [
    "track = \"Dance Monkey\"\n",
    "result = spotify.search(q=track, limit = 10)\n",
    "all_name=[]\n",
    "for result in result['tracks']['items']:\n",
    "    for artist in result['artists']:\n",
    "        all_name.append(artist['name'])\n",
    "all_name"
   ]
  },
  {
   "cell_type": "code",
   "execution_count": 84,
   "metadata": {},
   "outputs": [
    {
     "data": {
      "text/plain": [
       "14"
      ]
     },
     "execution_count": 84,
     "metadata": {},
     "output_type": "execute_result"
    }
   ],
   "source": [
    "len(set(all_name))"
   ]
  },
  {
   "cell_type": "code",
   "execution_count": null,
   "metadata": {},
   "outputs": [],
   "source": [
    "len"
   ]
  },
  {
   "cell_type": "code",
   "execution_count": 143,
   "metadata": {},
   "outputs": [
    {
     "name": "stdout",
     "output_type": "stream",
     "text": [
      "add your songdakr side\n",
      "Lil Wayne\n",
      "{'danceability': 0.603, 'energy': 0.457, 'key': 11, 'loudness': -5.384, 'mode': 1, 'speechiness': 0.297, 'acousticness': 0.526, 'instrumentalness': 0, 'liveness': 0.0905, 'valence': 0.455, 'tempo': 73.724, 'type': 'audio_features', 'id': '5IvdLxVB8gwwcgnEkXSSW2', 'uri': 'spotify:track:5IvdLxVB8gwwcgnEkXSSW2', 'track_href': 'https://api.spotify.com/v1/tracks/5IvdLxVB8gwwcgnEkXSSW2', 'analysis_url': 'https://api.spotify.com/v1/audio-analysis/5IvdLxVB8gwwcgnEkXSSW2', 'duration_ms': 242972, 'time_signature': 4}\n"
     ]
    }
   ],
   "source": [
    "track = str(input(\"add your song\"))\n",
    "result = spotify.search(q=track, limit = 1)\n",
    "uri_track = result['tracks']['items'][0]['uri']\n",
    "\n",
    "features = spotify.audio_features(uri_track)[0]\n",
    "\n",
    "print(result['tracks']['items'][0]['artists'][0]['name'])\n",
    "print(features)"
   ]
  },
  {
   "cell_type": "code",
   "execution_count": 131,
   "metadata": {},
   "outputs": [],
   "source": [
    "features = spotify.audio_features(uri_track)[0]"
   ]
  },
  {
   "cell_type": "code",
   "execution_count": 141,
   "metadata": {},
   "outputs": [
    {
     "data": {
      "text/plain": [
       "dict_keys(['danceability', 'energy', 'key', 'loudness', 'mode', 'speechiness', 'acousticness', 'instrumentalness', 'liveness', 'valence', 'tempo', 'type', 'id', 'uri', 'track_href', 'analysis_url', 'duration_ms', 'time_signature'])"
      ]
     },
     "execution_count": 141,
     "metadata": {},
     "output_type": "execute_result"
    }
   ],
   "source": [
    "features.keys()"
   ]
  },
  {
   "cell_type": "code",
   "execution_count": null,
   "metadata": {},
   "outputs": [],
   "source": []
  },
  {
   "cell_type": "code",
   "execution_count": null,
   "metadata": {},
   "outputs": [],
   "source": [
    "track = str(input(\"add your song\"))\n",
    "result = spotify.search(q=track, limit = 1)\n",
    "all_uri=[]\n",
    "for result in result['tracks']['items']:\n",
    "    uri_track=(result['uri'])\n",
    "\n",
    "features = spotify.audio_features(uri_track)[0]\n",
    "\n",
    "print(features)"
   ]
  },
  {
   "cell_type": "code",
   "execution_count": 35,
   "metadata": {},
   "outputs": [],
   "source": [
    "q = \"hol\"\n",
    "x = spotify.search(q, type='track', limit = 10)"
   ]
  },
  {
   "cell_type": "code",
   "execution_count": 36,
   "metadata": {},
   "outputs": [
    {
     "data": {
      "text/plain": [
       "'Justin Bieber'"
      ]
     },
     "execution_count": 36,
     "metadata": {},
     "output_type": "execute_result"
    }
   ],
   "source": [
    "x['tracks']['items'][0]['artists'][0]['name']"
   ]
  },
  {
   "cell_type": "code",
   "execution_count": 37,
   "metadata": {},
   "outputs": [
    {
     "data": {
      "text/plain": [
       "'Holy (feat. Chance The Rapper)'"
      ]
     },
     "execution_count": 37,
     "metadata": {},
     "output_type": "execute_result"
    }
   ],
   "source": [
    "x['tracks']['items'][0]['name']"
   ]
  },
  {
   "cell_type": "code",
   "execution_count": null,
   "metadata": {},
   "outputs": [],
   "source": []
  },
  {
   "cell_type": "code",
   "execution_count": null,
   "metadata": {},
   "outputs": [],
   "source": []
  },
  {
   "cell_type": "code",
   "execution_count": 40,
   "metadata": {},
   "outputs": [
    {
     "name": "stdout",
     "output_type": "stream",
     "text": [
      "add your songBohemian Rhapsody\n",
      "Queen\n",
      "{'danceability': 0.673, 'energy': 0.704, 'key': 6, 'loudness': -8.056, 'mode': 1, 'speechiness': 0.36, 'acousticness': 0.196, 'instrumentalness': 0, 'liveness': 0.0898, 'valence': 0.372, 'tempo': 86.919, 'type': 'audio_features', 'id': '5u1n1kITHCxxp8twBcZxWy', 'uri': 'spotify:track:5u1n1kITHCxxp8twBcZxWy', 'track_href': 'https://api.spotify.com/v1/tracks/5u1n1kITHCxxp8twBcZxWy', 'analysis_url': 'https://api.spotify.com/v1/audio-analysis/5u1n1kITHCxxp8twBcZxWy', 'duration_ms': 212093, 'time_signature': 4}\n"
     ]
    }
   ],
   "source": [
    "input_song = str(input(\"add your song\"))\n",
    "result = spotify.search(q=input_song, limit = 1)\n",
    "uri_input_song = result['tracks']['items'][0]['uri']\n",
    "\n",
    "features_input_song = spotify.audio_features(uri_input_song)[0]\n",
    "\n",
    "print(result['tracks']['items'][0]['artists'][0]['name'])\n",
    "print(features)"
   ]
  },
  {
   "cell_type": "code",
   "execution_count": null,
   "metadata": {},
   "outputs": [],
   "source": []
  }
 ],
 "metadata": {
  "kernelspec": {
   "display_name": "Python 3",
   "language": "python",
   "name": "python3"
  },
  "language_info": {
   "codemirror_mode": {
    "name": "ipython",
    "version": 3
   },
   "file_extension": ".py",
   "mimetype": "text/x-python",
   "name": "python",
   "nbconvert_exporter": "python",
   "pygments_lexer": "ipython3",
   "version": "3.8.6"
  }
 },
 "nbformat": 4,
 "nbformat_minor": 4
}
