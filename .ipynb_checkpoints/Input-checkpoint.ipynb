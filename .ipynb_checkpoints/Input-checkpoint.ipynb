{
 "cells": [
  {
   "cell_type": "code",
   "execution_count": 1,
   "metadata": {},
   "outputs": [],
   "source": [
    "from bs4 import BeautifulSoup\n",
    "import requests\n",
    "import pandas as pd\n",
    "import random"
   ]
  },
  {
   "cell_type": "code",
   "execution_count": 72,
   "metadata": {},
   "outputs": [],
   "source": [
    "import time"
   ]
  },
  {
   "cell_type": "code",
   "execution_count": 12,
   "metadata": {},
   "outputs": [],
   "source": [
    "import spotipy\n",
    "from spotipy.oauth2 import SpotifyClientCredentials"
   ]
  },
  {
   "cell_type": "code",
   "execution_count": 13,
   "metadata": {},
   "outputs": [],
   "source": [
    "spotify = spotipy.Spotify(client_credentials_manager=SpotifyClientCredentials(\n",
    "    client_id=id, client_secret=id))"
   ]
  },
  {
   "cell_type": "markdown",
   "metadata": {},
   "source": [
    "# Billboard infos"
   ]
  },
  {
   "cell_type": "code",
   "execution_count": 46,
   "metadata": {},
   "outputs": [],
   "source": [
    "url = \"https://www.billboard.com/charts/hot-100\""
   ]
  },
  {
   "cell_type": "code",
   "execution_count": 47,
   "metadata": {},
   "outputs": [],
   "source": [
    "response = requests.get(url)"
   ]
  },
  {
   "cell_type": "code",
   "execution_count": 48,
   "metadata": {},
   "outputs": [],
   "source": [
    "soup = BeautifulSoup(response.content, \"html.parser\")"
   ]
  },
  {
   "cell_type": "code",
   "execution_count": 49,
   "metadata": {},
   "outputs": [],
   "source": [
    "list_title = soup.select(\"li > button > span.chart-element__information > span.chart-element__information__song.text--truncate.color--primary\")"
   ]
  },
  {
   "cell_type": "code",
   "execution_count": 50,
   "metadata": {},
   "outputs": [],
   "source": [
    "titles = []\n",
    "for i in list_title:\n",
    "    titles.append(i.get_text())"
   ]
  },
  {
   "cell_type": "code",
   "execution_count": 51,
   "metadata": {},
   "outputs": [],
   "source": [
    "list_art=soup.select(\"li> button > span.chart-element__information > span.chart-element__information__artist.text--truncate.color--secondary\")"
   ]
  },
  {
   "cell_type": "code",
   "execution_count": 52,
   "metadata": {},
   "outputs": [],
   "source": [
    "artists = []\n",
    "for artist in list_art:\n",
    "    artists.append(artist.get_text())"
   ]
  },
  {
   "cell_type": "code",
   "execution_count": 53,
   "metadata": {},
   "outputs": [],
   "source": [
    "billboard = pd.DataFrame({ \"artist\": artists,\n",
    "                           \"title\": titles})"
   ]
  },
  {
   "cell_type": "markdown",
   "metadata": {},
   "source": [
    " "
   ]
  },
  {
   "cell_type": "markdown",
   "metadata": {},
   "source": [
    "## Billboard search"
   ]
  },
  {
   "cell_type": "code",
   "execution_count": 11,
   "metadata": {},
   "outputs": [
    {
     "name": "stdout",
     "output_type": "stream",
     "text": [
      "Give me your favorite songHoly\n",
      "it's a hot song!\n",
      "Here is another hot song recommendation for you:  Blind from  DaBaby Featuring Young Thug\n"
     ]
    }
   ],
   "source": [
    "fav_song =str(input(\"Give me your favorite song\"))\n",
    "\n",
    "titles_string= str(titles)\n",
    "if fav_song in titles:\n",
    "    print(\"it's a hot song!\")\n",
    "    random_title = random.choice(titles)\n",
    "    while random_title == fav_song:\n",
    "        random_title = random.choice(titles)\n",
    "    print(\"Here is another hot song recommendation for you: \",random_title ,\"from \",billboard[billboard[\"title\"] == random_title][\"artist\"].values[0])"
   ]
  },
  {
   "cell_type": "markdown",
   "metadata": {},
   "source": [
    " "
   ]
  },
  {
   "cell_type": "markdown",
   "metadata": {},
   "source": [
    "## Spotify search"
   ]
  },
  {
   "cell_type": "code",
   "execution_count": 15,
   "metadata": {},
   "outputs": [
    {
     "name": "stdout",
     "output_type": "stream",
     "text": [
      "add your songholy\n",
      "Justin Bieber\n",
      "{'danceability': 0.673, 'energy': 0.704, 'key': 6, 'loudness': -8.056, 'mode': 1, 'speechiness': 0.36, 'acousticness': 0.196, 'instrumentalness': 0, 'liveness': 0.0898, 'valence': 0.372, 'tempo': 86.919, 'type': 'audio_features', 'id': '5u1n1kITHCxxp8twBcZxWy', 'uri': 'spotify:track:5u1n1kITHCxxp8twBcZxWy', 'track_href': 'https://api.spotify.com/v1/tracks/5u1n1kITHCxxp8twBcZxWy', 'analysis_url': 'https://api.spotify.com/v1/audio-analysis/5u1n1kITHCxxp8twBcZxWy', 'duration_ms': 212093, 'time_signature': 4}\n"
     ]
    }
   ],
   "source": [
    "input_song = str(input(\"add your song\"))\n",
    "result = spotify.search(q=input_song, limit = 1)\n",
    "uri_input_song = result['tracks']['items'][0]['uri']\n",
    "\n",
    "features_input_song = spotify.audio_features(uri_input_song)[0]\n",
    "\n",
    "print(result['tracks']['items'][0]['artists'][0]['name'])\n",
    "print(features_input_song)"
   ]
  },
  {
   "cell_type": "markdown",
   "metadata": {},
   "source": [
    " "
   ]
  },
  {
   "cell_type": "markdown",
   "metadata": {},
   "source": [
    "# START"
   ]
  },
  {
   "cell_type": "code",
   "execution_count": 81,
   "metadata": {},
   "outputs": [
    {
     "name": "stdout",
     "output_type": "stream",
     "text": [
      "Give me a song title: Gimme Gimme\n",
      "Hope this is what you meant:  Gimme! Gimme! Gimme! (A Man After Midnight) from  ABBA\n",
      "It's not a hot song...\n"
     ]
    }
   ],
   "source": [
    "input_song = str(input(\"Give me a song title: \"))\n",
    "result = spotify.search(q=input_song, limit = 1)\n",
    "\n",
    "for i in range(len(titles)):\n",
    "    if titles[i]== input_song:\n",
    "        print(\"Your song is from: \" ,artists[i])\n",
    "        \n",
    "time.sleep(2)\n",
    "\n",
    "if input_song in titles:\n",
    "    print(\"It's a hot song!\")\n",
    "    random_title = random.choice(titles)\n",
    "    while random_title == input_song:\n",
    "        random_title = random.choice(titles)\n",
    "    time.sleep(1)\n",
    "    print(\"Here is another hot song recommendation for you: \",random_title ,\"from \",billboard[billboard[\"title\"] == random_title][\"artist\"].values[0])\n",
    "else:\n",
    "    correct_title =result['tracks']['items'][0]['name']\n",
    "    print(\"Hope this is what you meant: \", correct_title, \"from \", result['tracks']['items'][0]['artists'][0]['name'] )\n",
    "    print(\"It's not a hot song...\")\n",
    "    uri_input_song = result['tracks']['items'][0]['uri']\n",
    "    features_input_song = spotify.audio_features(uri_input_song)\n",
    "\n"
   ]
  },
  {
   "cell_type": "markdown",
   "metadata": {},
   "source": [
    " "
   ]
  },
  {
   "cell_type": "markdown",
   "metadata": {},
   "source": [
    " "
   ]
  },
  {
   "cell_type": "markdown",
   "metadata": {},
   "source": [
    " \n"
   ]
  },
  {
   "cell_type": "code",
   "execution_count": 76,
   "metadata": {
    "scrolled": true
   },
   "outputs": [
    {
     "name": "stdout",
     "output_type": "stream",
     "text": [
      "features_input_song =  [{'danceability': 0.747, 'energy': 0.492, 'key': 10, 'loudness': -9.616, 'mode': 1, 'speechiness': 0.04, 'acousticness': 0.0163, 'instrumentalness': 0.00897, 'liveness': 0.224, 'valence': 0.533, 'tempo': 119.531, 'type': 'audio_features', 'id': '2PzCOP5Aj9SABiBgNEZ52G', 'uri': 'spotify:track:2PzCOP5Aj9SABiBgNEZ52G', 'track_href': 'https://api.spotify.com/v1/tracks/2PzCOP5Aj9SABiBgNEZ52G', 'analysis_url': 'https://api.spotify.com/v1/audio-analysis/2PzCOP5Aj9SABiBgNEZ52G', 'duration_ms': 292571, 'time_signature': 4}]\n"
     ]
    }
   ],
   "source": [
    "print(\"features_input_song = \", features_input_song)"
   ]
  },
  {
   "cell_type": "code",
   "execution_count": null,
   "metadata": {},
   "outputs": [],
   "source": []
  },
  {
   "cell_type": "code",
   "execution_count": null,
   "metadata": {},
   "outputs": [],
   "source": []
  }
 ],
 "metadata": {
  "kernelspec": {
   "display_name": "Python 3",
   "language": "python",
   "name": "python3"
  },
  "language_info": {
   "codemirror_mode": {
    "name": "ipython",
    "version": 3
   },
   "file_extension": ".py",
   "mimetype": "text/x-python",
   "name": "python",
   "nbconvert_exporter": "python",
   "pygments_lexer": "ipython3",
   "version": "3.8.6"
  }
 },
 "nbformat": 4,
 "nbformat_minor": 4
}
